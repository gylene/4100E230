{
  "nbformat": 4,
  "nbformat_minor": 0,
  "metadata": {
    "colab": {
      "name": "Copy of 2021011_gylene.ipynb",
      "provenance": [],
      "authorship_tag": "ABX9TyNcOYBacZmxvcej+hWjdrF0",
      "include_colab_link": true
    },
    "kernelspec": {
      "display_name": "Python 3",
      "name": "python3"
    },
    "language_info": {
      "name": "python"
    }
  },
  "cells": [
    {
      "cell_type": "markdown",
      "metadata": {
        "id": "view-in-github",
        "colab_type": "text"
      },
      "source": [
        "<a href=\"https://colab.research.google.com/github/gylene/datatype/blob/main/Copy_of_2021011_gylene.ipynb\" target=\"_parent\"><img src=\"https://colab.research.google.com/assets/colab-badge.svg\" alt=\"Open In Colab\"/></a>"
      ]
    },
    {
      "cell_type": "markdown",
      "metadata": {
        "id": "l78C0Jwu78ak"
      },
      "source": [
        "# Python Data Type\n",
        "\n",
        "Date: 20211011\n",
        "\n",
        "Name: Gylene Dayane M. Premarion\n"
      ]
    },
    {
      "cell_type": "markdown",
      "metadata": {
        "id": "QUF1M4CZtAwE"
      },
      "source": [
        "# 1_Numerics Data Type "
      ]
    },
    {
      "cell_type": "markdown",
      "metadata": {
        "id": "sACCMXq3CoOI"
      },
      "source": [
        "# Arithmetic operators\n",
        "\n",
        "\n"
      ]
    },
    {
      "cell_type": "code",
      "metadata": {
        "colab": {
          "base_uri": "https://localhost:8080/"
        },
        "id": "LCtm_Fu04ACe",
        "outputId": "411c7e1e-14f8-42e5-e440-7026a22cd660"
      },
      "source": [
        "a = 17 / 3\n",
        "a"
      ],
      "execution_count": null,
      "outputs": [
        {
          "data": {
            "text/plain": [
              "5.666666666666667"
            ]
          },
          "execution_count": 5,
          "metadata": {},
          "output_type": "execute_result"
        }
      ]
    },
    {
      "cell_type": "code",
      "metadata": {
        "colab": {
          "base_uri": "https://localhost:8080/"
        },
        "id": "mxM_thUa8Frb",
        "outputId": "28cc642e-e523-455f-d808-68490fdd82e9"
      },
      "source": [
        "b =17 // 3\n",
        "b"
      ],
      "execution_count": null,
      "outputs": [
        {
          "data": {
            "text/plain": [
              "5"
            ]
          },
          "execution_count": 6,
          "metadata": {},
          "output_type": "execute_result"
        }
      ]
    },
    {
      "cell_type": "code",
      "metadata": {
        "colab": {
          "base_uri": "https://localhost:8080/"
        },
        "id": "WvNhRk8C8x6S",
        "outputId": "b3a5fe76-ce65-4ca0-a4ed-2893345a7d9b"
      },
      "source": [
        "c = 17 % 3\n",
        "c"
      ],
      "execution_count": null,
      "outputs": [
        {
          "data": {
            "text/plain": [
              "2"
            ]
          },
          "execution_count": 1,
          "metadata": {},
          "output_type": "execute_result"
        }
      ]
    },
    {
      "cell_type": "markdown",
      "metadata": {
        "id": "QB0stWfzDWhS"
      },
      "source": [
        "# Logical operators\n",
        "\n"
      ]
    },
    {
      "cell_type": "code",
      "metadata": {
        "colab": {
          "base_uri": "https://localhost:8080/"
        },
        "id": "rrzL17dmDwQY",
        "outputId": "a4cbbd9d-422e-4b41-c0fb-241261b06aca"
      },
      "source": [
        "x= 5\n",
        "print (x > 3 and x < 10)"
      ],
      "execution_count": null,
      "outputs": [
        {
          "name": "stdout",
          "output_type": "stream",
          "text": [
            "True\n"
          ]
        }
      ]
    },
    {
      "cell_type": "code",
      "metadata": {
        "colab": {
          "base_uri": "https://localhost:8080/"
        },
        "id": "I4KaVYZED-r-",
        "outputId": "73609a7e-3b96-42cb-cc7b-197b559e2784"
      },
      "source": [
        "x = 5 \n",
        "print (x > 3 and x > 10)"
      ],
      "execution_count": null,
      "outputs": [
        {
          "name": "stdout",
          "output_type": "stream",
          "text": [
            "False\n"
          ]
        }
      ]
    },
    {
      "cell_type": "code",
      "metadata": {
        "colab": {
          "base_uri": "https://localhost:8080/"
        },
        "id": "FQ0sziltEMon",
        "outputId": "839f4f5b-6f47-46fd-ce96-b68659baca82"
      },
      "source": [
        "x = 5 \n",
        "print (x > 3 or x > 10)"
      ],
      "execution_count": null,
      "outputs": [
        {
          "name": "stdout",
          "output_type": "stream",
          "text": [
            "True\n"
          ]
        }
      ]
    },
    {
      "cell_type": "markdown",
      "metadata": {
        "id": "ROLSpWLdEVI_"
      },
      "source": [
        "# Built-in functions\n",
        "\n"
      ]
    },
    {
      "cell_type": "code",
      "metadata": {
        "colab": {
          "base_uri": "https://localhost:8080/",
          "height": 35
        },
        "id": "VXsfZu2hEUHQ",
        "outputId": "38d26266-0b53-4c4b-aa8b-cf0df6e587fb"
      },
      "source": [
        "bin(3)"
      ],
      "execution_count": null,
      "outputs": [
        {
          "data": {
            "application/vnd.google.colaboratory.intrinsic+json": {
              "type": "string"
            },
            "text/plain": [
              "'0b11'"
            ]
          },
          "execution_count": 7,
          "metadata": {},
          "output_type": "execute_result"
        }
      ]
    },
    {
      "cell_type": "code",
      "metadata": {
        "colab": {
          "base_uri": "https://localhost:8080/"
        },
        "id": "DWhurFY0EkND",
        "outputId": "3260657b-0959-4a51-8b19-c92222fa89fe"
      },
      "source": [
        "int(0b111)"
      ],
      "execution_count": null,
      "outputs": [
        {
          "data": {
            "text/plain": [
              "7"
            ]
          },
          "execution_count": 9,
          "metadata": {},
          "output_type": "execute_result"
        }
      ]
    },
    {
      "cell_type": "markdown",
      "metadata": {
        "id": "z_NtU-fYFpyW"
      },
      "source": [
        "# 2_String data type"
      ]
    },
    {
      "cell_type": "code",
      "metadata": {
        "colab": {
          "base_uri": "https://localhost:8080/",
          "height": 35
        },
        "id": "-PZCfojBFzhq",
        "outputId": "65273f42-ba1e-44c2-c005-9fb05fa85277"
      },
      "source": [
        "str3 = 'allows embedded \"double\" quotes'\n",
        "str3"
      ],
      "execution_count": null,
      "outputs": [
        {
          "data": {
            "application/vnd.google.colaboratory.intrinsic+json": {
              "type": "string"
            },
            "text/plain": [
              "'allows embedded \"double\" quotes'"
            ]
          },
          "execution_count": 10,
          "metadata": {},
          "output_type": "execute_result"
        }
      ]
    },
    {
      "cell_type": "markdown",
      "metadata": {
        "id": "p8Wysyk_F6o5"
      },
      "source": [
        "# Operation on string"
      ]
    },
    {
      "cell_type": "code",
      "metadata": {
        "colab": {
          "base_uri": "https://localhost:8080/"
        },
        "id": "GG_ncbQPGBSQ",
        "outputId": "61f18bb3-5f17-43a1-c8be-44483b88d016"
      },
      "source": [
        "var1 = 'Hello Python!'\n",
        "\n",
        "print(\"var1[1]: \", var1[1])"
      ],
      "execution_count": 2,
      "outputs": [
        {
          "output_type": "stream",
          "name": "stdout",
          "text": [
            "var1[1]:  e\n"
          ]
        }
      ]
    },
    {
      "cell_type": "markdown",
      "metadata": {
        "id": "SbArSartGKRv"
      },
      "source": [
        "# Slice Operation"
      ]
    },
    {
      "cell_type": "code",
      "metadata": {
        "colab": {
          "base_uri": "https://localhost:8080/"
        },
        "id": "D0uwoU00wCPv",
        "outputId": "41ef721d-617f-47be-81ab-843c5af94541"
      },
      "source": [
        "b = \"Hello, World!\"\n",
        "print(b[2:5])"
      ],
      "execution_count": 3,
      "outputs": [
        {
          "output_type": "stream",
          "name": "stdout",
          "text": [
            "llo\n"
          ]
        }
      ]
    },
    {
      "cell_type": "code",
      "metadata": {
        "colab": {
          "base_uri": "https://localhost:8080/"
        },
        "id": "Bkk6ashDwG3l",
        "outputId": "d546b516-a2ad-45a3-c557-009e98d22593"
      },
      "source": [
        "b = \"Hello, World!\"\n",
        "print(b[:6])"
      ],
      "execution_count": 4,
      "outputs": [
        {
          "output_type": "stream",
          "name": "stdout",
          "text": [
            "Hello,\n"
          ]
        }
      ]
    },
    {
      "cell_type": "code",
      "metadata": {
        "colab": {
          "base_uri": "https://localhost:8080/"
        },
        "id": "1MzYUF7twKqt",
        "outputId": "959134a1-bb7c-48e6-834e-d0511bc0788f"
      },
      "source": [
        "b = \"Hello, World!\"\n",
        "print(b[2:])"
      ],
      "execution_count": 5,
      "outputs": [
        {
          "output_type": "stream",
          "name": "stdout",
          "text": [
            "llo, World!\n"
          ]
        }
      ]
    },
    {
      "cell_type": "code",
      "metadata": {
        "colab": {
          "base_uri": "https://localhost:8080/"
        },
        "id": "HO-GFSMpwPf6",
        "outputId": "ecba4c3a-8c33-4bb9-f3a4-aa86a4c64165"
      },
      "source": [
        "b = \"Hello, World!\"\n",
        "print(b[-5:-2]) "
      ],
      "execution_count": 6,
      "outputs": [
        {
          "output_type": "stream",
          "name": "stdout",
          "text": [
            "orl\n"
          ]
        }
      ]
    },
    {
      "cell_type": "markdown",
      "metadata": {
        "id": "UpznV1d5wjjF"
      },
      "source": [
        "# Python capitalize() Method"
      ]
    },
    {
      "cell_type": "code",
      "metadata": {
        "colab": {
          "base_uri": "https://localhost:8080/"
        },
        "id": "IXSuJ39Lwxga",
        "outputId": "176f28d3-ebb7-4e30-fd39-fc63cbee8914"
      },
      "source": [
        "cat = \"meow\"\n",
        "x = cat.capitalize()\n",
        "print (x)"
      ],
      "execution_count": 7,
      "outputs": [
        {
          "output_type": "stream",
          "name": "stdout",
          "text": [
            "Meow\n"
          ]
        }
      ]
    },
    {
      "cell_type": "markdown",
      "metadata": {
        "id": "xwpjSwKIw-9N"
      },
      "source": [
        "# Python join() Method"
      ]
    },
    {
      "cell_type": "code",
      "metadata": {
        "colab": {
          "base_uri": "https://localhost:8080/"
        },
        "id": "Ok_K3aAfxR9t",
        "outputId": "04ba8a09-728a-4dbc-fad5-83adfef51c71"
      },
      "source": [
        "life = (\"My\", \"Wonderful\", \"Life\")\n",
        "x = \" \".join(life)\n",
        "print (x)"
      ],
      "execution_count": 13,
      "outputs": [
        {
          "output_type": "stream",
          "name": "stdout",
          "text": [
            "My Wonderful Life\n"
          ]
        }
      ]
    },
    {
      "cell_type": "markdown",
      "metadata": {
        "id": "QvAqnseGyFYv"
      },
      "source": [
        "# Python ljust() Method"
      ]
    },
    {
      "cell_type": "code",
      "metadata": {
        "colab": {
          "base_uri": "https://localhost:8080/"
        },
        "id": "qae2pQ_7yQj9",
        "outputId": "51524c4f-af66-4ff2-8d7f-5d2f2ef64e0e"
      },
      "source": [
        "cinderella = \"i\"\n",
        "x = cinderella.ljust(3)\n",
        "print (x, \"left my shoe.\")"
      ],
      "execution_count": 15,
      "outputs": [
        {
          "output_type": "stream",
          "name": "stdout",
          "text": [
            "i   left my shoe.\n"
          ]
        }
      ]
    },
    {
      "cell_type": "markdown",
      "metadata": {
        "id": "ENr1EzLdyd6W"
      },
      "source": [
        "#Python lstrip() Method"
      ]
    },
    {
      "cell_type": "code",
      "metadata": {
        "colab": {
          "base_uri": "https://localhost:8080/"
        },
        "id": "QWnewStiy5D_",
        "outputId": "d64fa288-0afa-4b95-b208-9395015b22c1"
      },
      "source": [
        "txt = \"     strawberry     \"\n",
        "x = txt.lstrip()\n",
        "print(\"my favorite fruite is\", x, \"with chocolate toppings\")"
      ],
      "execution_count": 16,
      "outputs": [
        {
          "output_type": "stream",
          "name": "stdout",
          "text": [
            "my favorite fruite is strawberry      with chocolate toppings\n"
          ]
        }
      ]
    },
    {
      "cell_type": "markdown",
      "metadata": {
        "id": "EdIzH3y8zXE-"
      },
      "source": [
        "#3_List Data Type"
      ]
    },
    {
      "cell_type": "code",
      "metadata": {
        "colab": {
          "base_uri": "https://localhost:8080/"
        },
        "id": "CiLrjy0wzWoV",
        "outputId": "ba1852ed-4938-4ff3-aa75-2f5e8ab4cee6"
      },
      "source": [
        "list1 = [21, 33, 14, 12, 32, 98]\n",
        "list1[1]"
      ],
      "execution_count": 17,
      "outputs": [
        {
          "output_type": "execute_result",
          "data": {
            "text/plain": [
              "33"
            ]
          },
          "metadata": {},
          "execution_count": 17
        }
      ]
    },
    {
      "cell_type": "markdown",
      "metadata": {
        "id": "Dnbe_eRDzqvW"
      },
      "source": [
        "#Slice Operator"
      ]
    },
    {
      "cell_type": "code",
      "metadata": {
        "colab": {
          "base_uri": "https://localhost:8080/"
        },
        "id": "O1SIpswYzufW",
        "outputId": "bfc97a31-d7a3-4f47-d2aa-2da66a1cb95b"
      },
      "source": [
        "list1[1:3]"
      ],
      "execution_count": 18,
      "outputs": [
        {
          "output_type": "execute_result",
          "data": {
            "text/plain": [
              "[33, 14]"
            ]
          },
          "metadata": {},
          "execution_count": 18
        }
      ]
    },
    {
      "cell_type": "markdown",
      "metadata": {
        "id": "A9xed5HS0FQP"
      },
      "source": [
        "#Built-in Functions"
      ]
    },
    {
      "cell_type": "code",
      "metadata": {
        "colab": {
          "base_uri": "https://localhost:8080/"
        },
        "id": "WIgOSVbhzy91",
        "outputId": "bdab0e78-12de-4838-e915-2d0ad630ba8b"
      },
      "source": [
        "len(list1)"
      ],
      "execution_count": 19,
      "outputs": [
        {
          "output_type": "execute_result",
          "data": {
            "text/plain": [
              "6"
            ]
          },
          "metadata": {},
          "execution_count": 19
        }
      ]
    },
    {
      "cell_type": "code",
      "metadata": {
        "colab": {
          "base_uri": "https://localhost:8080/"
        },
        "id": "6sR3__Bs0QOG",
        "outputId": "4a4dc19c-cc34-4c97-f57d-4e2c60db3abd"
      },
      "source": [
        "max(list1)"
      ],
      "execution_count": 20,
      "outputs": [
        {
          "output_type": "execute_result",
          "data": {
            "text/plain": [
              "98"
            ]
          },
          "metadata": {},
          "execution_count": 20
        }
      ]
    },
    {
      "cell_type": "code",
      "metadata": {
        "colab": {
          "base_uri": "https://localhost:8080/"
        },
        "id": "MRFMAHLB0S_1",
        "outputId": "225c0a22-d7eb-4cf1-a4c4-17af82e7bf29"
      },
      "source": [
        "min(list1)"
      ],
      "execution_count": 21,
      "outputs": [
        {
          "output_type": "execute_result",
          "data": {
            "text/plain": [
              "12"
            ]
          },
          "metadata": {},
          "execution_count": 21
        }
      ]
    },
    {
      "cell_type": "markdown",
      "metadata": {
        "id": "MGUBPb5C0YhP"
      },
      "source": [
        "#4_Dict Data Type"
      ]
    },
    {
      "cell_type": "code",
      "metadata": {
        "colab": {
          "base_uri": "https://localhost:8080/"
        },
        "id": "11z3D59z0eJm",
        "outputId": "0d89f30b-8325-4ecd-a480-73e20b4bc66a"
      },
      "source": [
        "dict = {'Name': 'DaDaLong', 'Age': 17, 'Class': 'First'}\n",
        "print (dict)"
      ],
      "execution_count": 25,
      "outputs": [
        {
          "output_type": "stream",
          "name": "stdout",
          "text": [
            "{'Name': 'DaDaLong', 'Age': 17, 'Class': 'First'}\n"
          ]
        }
      ]
    },
    {
      "cell_type": "code",
      "metadata": {
        "colab": {
          "base_uri": "https://localhost:8080/"
        },
        "id": "qt1iSHSR0yOW",
        "outputId": "933d51f4-cb06-406c-e1df-b0f3ef1371f2"
      },
      "source": [
        "dict = {'Name': 'DaDaLong', 'Age': 17, 'Class': 'First'}\n",
        "print(\"dict['Age']: \", dict['Age'])"
      ],
      "execution_count": 26,
      "outputs": [
        {
          "output_type": "stream",
          "name": "stdout",
          "text": [
            "dict['Age']:  17\n"
          ]
        }
      ]
    }
  ]
}