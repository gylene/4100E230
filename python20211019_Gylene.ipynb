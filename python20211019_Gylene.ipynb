{
  "nbformat": 4,
  "nbformat_minor": 0,
  "metadata": {
    "colab": {
      "name": "python20211019_Gylene.ipynb",
      "provenance": [],
      "authorship_tag": "ABX9TyPXXC3V25QFJrBy5kWLP4WL",
      "include_colab_link": true
    },
    "kernelspec": {
      "name": "python3",
      "display_name": "Python 3"
    },
    "language_info": {
      "name": "python"
    }
  },
  "cells": [
    {
      "cell_type": "markdown",
      "metadata": {
        "id": "view-in-github",
        "colab_type": "text"
      },
      "source": [
        "<a href=\"https://colab.research.google.com/github/gylene/datatype/blob/main/python20211019_Gylene.ipynb\" target=\"_parent\"><img src=\"https://colab.research.google.com/assets/colab-badge.svg\" alt=\"Open In Colab\"/></a>"
      ]
    },
    {
      "cell_type": "code",
      "metadata": {
        "colab": {
          "base_uri": "https://localhost:8080/"
        },
        "id": "IobtXvX0Uyk5",
        "outputId": "63b951ce-d652-4822-8de1-35aba15a976f"
      },
      "source": [
        "def sum(i1, i2):\n",
        "    result = 0\n",
        "    for i in range(i1, i2):\n",
        "        result += i\n",
        "    return result\n",
        "\n",
        "def main():\n",
        "    print(\"Sum from 1 to 10 is\", sum(1, 11)) \n",
        "    print(\"Sum from 20 to 37 is\", sum(20, 38))\n",
        "    print(\"Sum from 35 to 49 is\", sum(35, 50))\n",
        "\n",
        "main() # Call the main function"
      ],
      "execution_count": 8,
      "outputs": [
        {
          "output_type": "stream",
          "name": "stdout",
          "text": [
            "Sum from 1 to 10 is 55\n",
            "Sum from 20 to 37 is 513\n",
            "Sum from 35 to 49 is 630\n"
          ]
        }
      ]
    },
    {
      "cell_type": "markdown",
      "metadata": {
        "id": "Xy9IrOZ_U4mv"
      },
      "source": [
        "#Simple Test\n"
      ]
    },
    {
      "cell_type": "code",
      "metadata": {
        "colab": {
          "base_uri": "https://localhost:8080/"
        },
        "id": "iZTNmFg3PuR1",
        "outputId": "21c79fd8-8158-426c-9918-36f55540d4cf"
      },
      "source": [
        "def sum(i1,i2,i3):\n",
        "  result = 0 \n",
        "  for i in range(i1,i2,i3):\n",
        "    result += i \n",
        "  return result \n",
        "\n",
        "def main():\n",
        "  print(\"Sum from 1 to 25 is\",sum(1,11,2))\n",
        "  print(\"Sum from 20 to 37 is\",sum(20,38,3))\n",
        "  print(\"Sum from 35 to 49 is\",sum(35,50,5))\n",
        "\n",
        "main() #Call the main function"
      ],
      "execution_count": 5,
      "outputs": [
        {
          "output_type": "stream",
          "name": "stdout",
          "text": [
            "Sum from 1 to 10 is 25\n",
            "Sum from 20 to 37 is 165\n",
            "Sum from 35 to 49 is 120\n"
          ]
        }
      ]
    },
    {
      "cell_type": "code",
      "metadata": {
        "colab": {
          "base_uri": "https://localhost:8080/"
        },
        "id": "2IPtxlziVG2y",
        "outputId": "46ae7035-c942-4d63-aa9d-e65d8cab044f"
      },
      "source": [
        "def sum(i1,i2,i3):\n",
        "    result = 0\n",
        "    for i in range(i1,i2,i3):\n",
        "        result += i\n",
        "    return result\n",
        "\n",
        "def main():\n",
        "    print(\"Sum1 \", sum(1, 11,2)) \n",
        "    print(\"Sum2 \", sum(20, 38,3))\n",
        "    print(\"Sum3 \", sum(35, 50,5))\n",
        "\n",
        "main() # Call the main function"
      ],
      "execution_count": 9,
      "outputs": [
        {
          "output_type": "stream",
          "name": "stdout",
          "text": [
            "Sum1  25\n",
            "Sum2  165\n",
            "Sum3  120\n"
          ]
        }
      ]
    },
    {
      "cell_type": "code",
      "metadata": {
        "colab": {
          "base_uri": "https://localhost:8080/"
        },
        "id": "Ch-TcD_VSzfF",
        "outputId": "21852725-eda8-4f4d-b6b9-02c9cc3735dc"
      },
      "source": [
        "def swap(s,t):\n",
        "  s,t = t,s\n",
        "  return (s,t)\n",
        "\n",
        "if __name__ == '__main__':\n",
        "    x = 55\n",
        "    y = 10\n",
        "    print('x = %d,y = %d' % (x,y))\n",
        "    x,y = swap(x,y)\n",
        "    print('x = %d,y = %d' % (x,y))"
      ],
      "execution_count": 10,
      "outputs": [
        {
          "output_type": "stream",
          "name": "stdout",
          "text": [
            "x = 55,y = 10\n",
            "x = 10,y = 55\n"
          ]
        }
      ]
    },
    {
      "cell_type": "code",
      "metadata": {
        "colab": {
          "base_uri": "https://localhost:8080/"
        },
        "id": "GrPIuTO5VlTm",
        "outputId": "1903947b-677e-4ce2-ed18-0e08d26a2bd7"
      },
      "source": [
        "def sort(muse1, muse2):\n",
        "    if muse1 < muse2:\n",
        "        return muse1, muse2\n",
        "    else:\n",
        "        return muse2, muse1\n",
        "\n",
        "m1, m2 = sort(22, 25)\n",
        "\n",
        "print(\"muse1 is\", m1)\n",
        "print(\"muse2 is\", m2)"
      ],
      "execution_count": 13,
      "outputs": [
        {
          "output_type": "stream",
          "name": "stdout",
          "text": [
            "muse1 is 22\n",
            "muse2 is 25\n"
          ]
        }
      ]
    }
  ]
}