{
  "nbformat": 4,
  "nbformat_minor": 0,
  "metadata": {
    "colab": {
      "name": "20211013_gylene.ipynb",
      "provenance": [],
      "authorship_tag": "ABX9TyOokNKcAhNxQkGZ2ErImePJ",
      "include_colab_link": true
    },
    "kernelspec": {
      "name": "python3",
      "display_name": "Python 3"
    },
    "language_info": {
      "name": "python"
    }
  },
  "cells": [
    {
      "cell_type": "markdown",
      "metadata": {
        "id": "view-in-github",
        "colab_type": "text"
      },
      "source": [
        "<a href=\"https://colab.research.google.com/github/gylene/datatype/blob/main/20211013_gylene.ipynb\" target=\"_parent\"><img src=\"https://colab.research.google.com/assets/colab-badge.svg\" alt=\"Open In Colab\"/></a>"
      ]
    },
    {
      "cell_type": "markdown",
      "metadata": {
        "id": "cruAPivdP7oY"
      },
      "source": [
        "#If statement"
      ]
    },
    {
      "cell_type": "code",
      "metadata": {
        "colab": {
          "base_uri": "https://localhost:8080/"
        },
        "id": "mv2y4lb9NhO0",
        "outputId": "7cbf7b21-7f1b-435f-f2b2-8a16b053b5bc"
      },
      "source": [
        "a = 40\n",
        "b = 100\n",
        "if b > a:\n",
        "  print(\"b is greater than a\")"
      ],
      "execution_count": 3,
      "outputs": [
        {
          "output_type": "stream",
          "name": "stdout",
          "text": [
            "b is greater than a\n"
          ]
        }
      ]
    },
    {
      "cell_type": "markdown",
      "metadata": {
        "id": "-AhMf9RjQKXn"
      },
      "source": [
        "#Elif\n"
      ]
    },
    {
      "cell_type": "code",
      "metadata": {
        "colab": {
          "base_uri": "https://localhost:8080/"
        },
        "id": "rpuJTXelOc8b",
        "outputId": "f19a6ad2-2cc4-43f2-a4fb-ddd98d9dde32"
      },
      "source": [
        "a = 22\n",
        "b= 22\n",
        "if b > a:\n",
        "  print(\"b is greater than a\")\n",
        "elif a == b:\n",
        "  print(\"a and b are equal\")"
      ],
      "execution_count": 4,
      "outputs": [
        {
          "output_type": "stream",
          "name": "stdout",
          "text": [
            "a and b are equal\n"
          ]
        }
      ]
    },
    {
      "cell_type": "markdown",
      "metadata": {
        "id": "A_MXMBT2QTCv"
      },
      "source": [
        "#Else"
      ]
    },
    {
      "cell_type": "code",
      "metadata": {
        "colab": {
          "base_uri": "https://localhost:8080/"
        },
        "id": "cbnuZy4SOwFd",
        "outputId": "d0b17001-f7b3-46c5-e337-282a687021f0"
      },
      "source": [
        "a = 300\n",
        "b = 76\n",
        "if b > a: \n",
        "  print(\"b is greater than a\")\n",
        "elif a ==b:\n",
        "  print(\"a and b are equal\")\n",
        "else:\n",
        "  print(\"a is greater than b\")"
      ],
      "execution_count": 5,
      "outputs": [
        {
          "output_type": "stream",
          "name": "stdout",
          "text": [
            "a is greater than b\n"
          ]
        }
      ]
    },
    {
      "cell_type": "markdown",
      "metadata": {
        "id": "jX8GYW3xQbB9"
      },
      "source": [
        "#Short Hand If"
      ]
    },
    {
      "cell_type": "code",
      "metadata": {
        "colab": {
          "base_uri": "https://localhost:8080/"
        },
        "id": "Z4cGgthOPGb_",
        "outputId": "2a8020d1-3b32-4c00-c31c-c06b56c13687"
      },
      "source": [
        "if a > b: print(\"a is greater than b\")"
      ],
      "execution_count": 6,
      "outputs": [
        {
          "output_type": "stream",
          "name": "stdout",
          "text": [
            "a is greater than b\n"
          ]
        }
      ]
    },
    {
      "cell_type": "markdown",
      "metadata": {
        "id": "N3BTOvj4SdDp"
      },
      "source": [
        "#Leap Year"
      ]
    },
    {
      "cell_type": "code",
      "metadata": {
        "colab": {
          "base_uri": "https://localhost:8080/"
        },
        "id": "bxEWmPgcShcb",
        "outputId": "bd5494b3-fe77-4fa4-961a-6db9056e3d68"
      },
      "source": [
        "year= eval (input(\"Please input the year\"))\n",
        "\n",
        "if ((year%400==0) or (year%4==0 and year%100!= 0)):\n",
        "  print(\"{0} is a leap year\".format(year))\n",
        "else:\n",
        "  print(\"{0} is not a leap year\".format(year))"
      ],
      "execution_count": 8,
      "outputs": [
        {
          "output_type": "stream",
          "name": "stdout",
          "text": [
            "Please input the year2022\n",
            "2022 is not a leap year\n"
          ]
        }
      ]
    },
    {
      "cell_type": "markdown",
      "metadata": {
        "id": "1GlFe85QWvma"
      },
      "source": [
        "#Loops"
      ]
    },
    {
      "cell_type": "code",
      "metadata": {
        "colab": {
          "base_uri": "https://localhost:8080/"
        },
        "id": "ejSseGa6W0mg",
        "outputId": "40eb03f7-0af2-4082-a608-dde421253e45"
      },
      "source": [
        "fruits = [\"apple\", \"banana\", \"cherry\"]\n",
        "for x in fruits:\n",
        "  print(x)"
      ],
      "execution_count": 9,
      "outputs": [
        {
          "output_type": "stream",
          "name": "stdout",
          "text": [
            "apple\n",
            "banana\n",
            "cherry\n"
          ]
        }
      ]
    },
    {
      "cell_type": "markdown",
      "metadata": {
        "id": "_Ih2ahImXdil"
      },
      "source": [
        "#Looping Through a String"
      ]
    },
    {
      "cell_type": "code",
      "metadata": {
        "colab": {
          "base_uri": "https://localhost:8080/"
        },
        "id": "TAV4QO79XihM",
        "outputId": "bb8112cc-5f72-4641-8c74-99a388df4b2b"
      },
      "source": [
        "for x in \"strawberry\":\n",
        "  print(x)\n"
      ],
      "execution_count": 10,
      "outputs": [
        {
          "output_type": "stream",
          "name": "stdout",
          "text": [
            "s\n",
            "t\n",
            "r\n",
            "a\n",
            "w\n",
            "b\n",
            "e\n",
            "r\n",
            "r\n",
            "y\n"
          ]
        }
      ]
    },
    {
      "cell_type": "markdown",
      "metadata": {
        "id": "uHzDqqryYi6n"
      },
      "source": [
        "#The break Statement\n"
      ]
    },
    {
      "cell_type": "code",
      "metadata": {
        "colab": {
          "base_uri": "https://localhost:8080/"
        },
        "id": "D67AFStxYit1",
        "outputId": "53083385-faed-4609-eb29-c3c8323d1ee3"
      },
      "source": [
        "fruits = [\"mango\", \"orange\", \"strawberry\"]\n",
        "for x in fruits:\n",
        "  print(x)\n",
        "  if x == \"orange\":\n",
        "    break\n"
      ],
      "execution_count": 13,
      "outputs": [
        {
          "output_type": "stream",
          "name": "stdout",
          "text": [
            "mango\n",
            "orange\n"
          ]
        }
      ]
    },
    {
      "cell_type": "markdown",
      "metadata": {
        "id": "0h6ftWOQZajO"
      },
      "source": [
        "#The continue Statement"
      ]
    },
    {
      "cell_type": "code",
      "metadata": {
        "colab": {
          "base_uri": "https://localhost:8080/"
        },
        "id": "CYEQ9LYCZdmt",
        "outputId": "43685c25-4c5a-47e0-9078-ebd1c2e86021"
      },
      "source": [
        "ulam = [\"adobo\", \"kare-kare\", \"tinola\"]\n",
        "for x in ulam:\n",
        "  if x == \"kare-kare\":\n",
        "    continue\n",
        "  print(x)"
      ],
      "execution_count": 14,
      "outputs": [
        {
          "output_type": "stream",
          "name": "stdout",
          "text": [
            "adobo\n",
            "tinola\n"
          ]
        }
      ]
    },
    {
      "cell_type": "markdown",
      "metadata": {
        "id": "zWDyOQnaaBew"
      },
      "source": [
        "#The range() Function"
      ]
    },
    {
      "cell_type": "code",
      "metadata": {
        "colab": {
          "base_uri": "https://localhost:8080/"
        },
        "id": "VvZVaFFGaE34",
        "outputId": "f0586e1b-59fc-4b5a-a2eb-48efcb99d0b2"
      },
      "source": [
        "for x in range(10):\n",
        "  print(x)"
      ],
      "execution_count": 15,
      "outputs": [
        {
          "output_type": "stream",
          "name": "stdout",
          "text": [
            "0\n",
            "1\n",
            "2\n",
            "3\n",
            "4\n",
            "5\n",
            "6\n",
            "7\n",
            "8\n",
            "9\n"
          ]
        }
      ]
    }
  ]
}